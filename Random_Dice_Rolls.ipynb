{
 "cells": [
  {
   "cell_type": "code",
   "execution_count": 43,
   "metadata": {},
   "outputs": [
    {
     "name": "stdin",
     "output_type": "stream",
     "text": [
      "select number of dies: 6\n",
      "select number of sides: 6\n",
      "select number of rolls: 2\n"
     ]
    },
    {
     "name": "stdout",
     "output_type": "stream",
     "text": [
      "\n",
      " roll--1\n",
      "the die no 1 shows up: 4\n",
      "the die no 2 shows up: 2\n",
      "the die no 3 shows up: 3\n",
      "the die no 4 shows up: 4\n",
      "the die no 5 shows up: 4\n",
      "the die no 6 shows up: 2\n",
      "\n",
      "\n",
      "                     list of results is: [4, 2, 3, 4, 4, 2]\n",
      "\n",
      " roll--2\n",
      "the die no 1 shows up: 4\n",
      "the die no 2 shows up: 1\n",
      "the die no 3 shows up: 4\n",
      "the die no 4 shows up: 0\n",
      "the die no 5 shows up: 4\n",
      "the die no 6 shows up: 1\n",
      "\n",
      "\n",
      "                     list of results is: [4, 1, 4, 0, 4, 1]\n"
     ]
    }
   ],
   "source": [
    "import random\n",
    "class RandRoll:\n",
    "    \n",
    "    def __init__(self, d, s, t):                   # Constructor\n",
    "        self.d=d\n",
    "        self.s=s\n",
    "        self.t=t\n",
    "    \n",
    "    def Roll(self, s, t):                          # Simulating the Random result for a die Roll\n",
    "        for i in range(t):\n",
    "            x=random.randrange(s)   \n",
    "            return x\n",
    "                \n",
    "    def Die(self, d, s, t):                        # Die roll simulation\n",
    "        for x in range(t):                               # looping the number of times the dice need to be rolled\n",
    "            print(\"\\n roll--\" + str(x+1))\n",
    "            w = []\n",
    "            for y in range(d):                           # Looping to print the result of each die roll\n",
    "                a = RandRoll(d,s,t).Roll(s, t)           # Calling the Roll method from class RandRoll\n",
    "                print(\"the die no \" + str(y+1) + \" shows up: \" + str(a))\n",
    "                w.append(a)                              # Moving all the results into a single list\n",
    "            print(\"\\n\\n                     list of results is:\", w)\n",
    "\n",
    "d=int(input(\"select number of dies:\"))\n",
    "s=int(input(\"select number of sides:\"))\n",
    "t=int(input(\"select number of rolls:\"))\n",
    "c=RandRoll(d, s, t)\n",
    "c.Die(d,s,t)"
   ]
  }
 ],
 "metadata": {
  "kernelspec": {
   "display_name": "Python 3",
   "language": "python",
   "name": "python3"
  },
  "language_info": {
   "codemirror_mode": {
    "name": "ipython",
    "version": 3
   },
   "file_extension": ".py",
   "mimetype": "text/x-python",
   "name": "python",
   "nbconvert_exporter": "python",
   "pygments_lexer": "ipython3",
   "version": "3.7.4"
  }
 },
 "nbformat": 4,
 "nbformat_minor": 4
}
