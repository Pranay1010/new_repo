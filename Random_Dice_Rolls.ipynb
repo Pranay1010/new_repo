import random
class RandRoll:
    
    def __init__(self, d, s, t):                   # Constructor
        self.d=d
        self.s=s
        self.t=t
    
    def Roll(self, s, t):                          # Simulating the Random result for a die Roll
        for i in range(t):
            x=random.randrange(s)   
            return x
                
    def Die(self, d, s, t):                        # Die roll simulation
        for x in range(t):                               # looping the number of times the dice need to be rolled
            print("\n roll--" + str(x+1))
            w = []
            for y in range(d):                           # Looping to print the result of each die roll
                a = RandRoll(d,s,t).Roll(s, t)           # Calling the Roll method from class RandRoll
                print("the die no " + str(y+1) + " shows up: " + str(a))
                w.append(a)                              # Moving all the results into a single list
            print("\n\n                     list of results is:", w)

d=int(input("select number of dies:"))
s=int(input("select number of sides:"))
t=int(input("select number of rolls:"))
c=RandRoll(d, s, t)
c.Die(d,s,t)